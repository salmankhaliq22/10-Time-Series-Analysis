{
  "nbformat": 4,
  "nbformat_minor": 0,
  "metadata": {
    "colab": {
      "name": "Dimensionality_reduction_modeling_tuning.ipynb",
      "provenance": [],
      "authorship_tag": "ABX9TyN9vf6SiqYv6zMOu7kjx/yl",
      "include_colab_link": true
    },
    "kernelspec": {
      "name": "python3",
      "display_name": "Python 3"
    },
    "language_info": {
      "name": "python"
    }
  },
  "cells": [
    {
      "cell_type": "markdown",
      "metadata": {
        "id": "view-in-github",
        "colab_type": "text"
      },
      "source": [
        "<a href=\"https://colab.research.google.com/github/salmankhaliq22/10-Time-Series-Analysis/blob/main/Dimensionality_reduction_modeling_tuning.ipynb\" target=\"_parent\"><img src=\"https://colab.research.google.com/assets/colab-badge.svg\" alt=\"Open In Colab\"/></a>"
      ]
    },
    {
      "cell_type": "markdown",
      "source": [
        "# RFE for Regression\n",
        "\n",
        "- Here we are using data from sklearn.datasets and would be using diabetes dataset for regression models, you can check out the details in the [link](https://scikit-learn.org/stable/modules/generated/sklearn.datasets.load_diabetes.html#sklearn.datasets.load_diabetes)"
      ],
      "metadata": {
        "id": "zkibyhO4nIBu"
      }
    },
    {
      "cell_type": "code",
      "execution_count": 21,
      "metadata": {
        "colab": {
          "base_uri": "https://localhost:8080/"
        },
        "id": "jd8n7laZnGX4",
        "outputId": "3e3e5f7c-5eef-4775-f102-7d533a1e0158"
      },
      "outputs": [
        {
          "output_type": "execute_result",
          "data": {
            "text/plain": [
              "Index(['Open', 'Close', 'Volume', 'Prev_Open', 'Prev_Close', 'Prev_Vol',\n",
              "       'daily_returns', 'Weekday', '5SMA', '10SMA', '20SMA', '50SMA', '100SMA',\n",
              "       '200SMA', 'MACD', 'MACD_signal', 'RSI', 'RSI_Volume', 'Upper_band',\n",
              "       'Lower_band', '1d_Prev_Close', '1d_Prev_Vol', '1d_5SMA', '1d_10SMA',\n",
              "       '1d_20SMA', '1d_50SMA', '1d_100SMA', '1d_200SMA', '1d_MACD',\n",
              "       '1d_MACD_signal', '1d_RSI', '1d_RSI_Volume', '1d_Upper_band',\n",
              "       '1d_Lower_band', '2d_Prev_Close', '2d_Prev_Vol', '2d_5SMA', '2d_10SMA',\n",
              "       '2d_20SMA', '2d_50SMA', '2d_100SMA', '2d_200SMA', '2d_MACD',\n",
              "       '2d_MACD_signal', '2d_RSI', '2d_RSI_Volume', '2d_Upper_band',\n",
              "       '2d_Lower_band', '5d_Prev_Close', '5d_Prev_Vol', '5d_5SMA', '5d_10SMA',\n",
              "       '5d_20SMA', '5d_50SMA', '5d_100SMA', '5d_200SMA', '5d_MACD',\n",
              "       '5d_MACD_signal', '5d_RSI', '5d_RSI_Volume', '5d_Upper_band',\n",
              "       '5d_Lower_band', '10d_Prev_Close', '10d_Prev_Vol', '10d_5SMA',\n",
              "       '10d_10SMA', '10d_20SMA', '10d_50SMA', '10d_100SMA', '10d_200SMA',\n",
              "       '10d_MACD', '10d_MACD_signal', '10d_RSI', '10d_RSI_Volume',\n",
              "       '10d_Upper_band', '10d_Lower_band', 'DEXJPUS', 'DEXUSEU',\n",
              "       'DCOILBRENTEU', 'GVZCLS'],\n",
              "      dtype='object')"
            ]
          },
          "metadata": {},
          "execution_count": 21
        }
      ],
      "source": [
        "import pandas as pd\n",
        "df = pd.read_csv('AAPL.csv', index_col = 'DATE', parse_dates = True)\n",
        "df.columns"
      ]
    },
    {
      "cell_type": "code",
      "source": [
        "X = df[['Prev_Open', 'Prev_Close', '5SMA', 'MACD', '2d_Prev_Vol', 'daily_returns', 'Upper_band'\n",
        "        , '10SMA', '1d_Prev_Vol', 'Prev_Vol', 'GVZCLS', 'DEXUSEU', 'Lower_band', 'MACD_signal'\n",
        "        , '2d_RSI', '50SMA', '20SMA', '5d_Prev_Vol', '10d_RSI', '1d_RSI', 'RSI', '2d_Prev_Close'\n",
        "        , 'DEXJPUS', '200SMA', '10d_Prev_Vol', '2d_5SMA', '1d_Upper_band', 'DCOILBRENTEU']].copy()\n",
        "y = df['Close'].copy()\n"
      ],
      "metadata": {
        "id": "V2x3XqCavZEC"
      },
      "execution_count": 23,
      "outputs": []
    },
    {
      "cell_type": "code",
      "source": [
        "# Lets look at the head of the X variable , which contains the features\n",
        "X.head()"
      ],
      "metadata": {
        "colab": {
          "base_uri": "https://localhost:8080/",
          "height": 418
        },
        "id": "CpKZB1zbnvf3",
        "outputId": "2969b442-c58c-4cdc-d0b4-f01647c51579"
      },
      "execution_count": 24,
      "outputs": [
        {
          "output_type": "execute_result",
          "data": {
            "text/plain": [
              "            Prev_Open  Prev_Close      5SMA      MACD  2d_Prev_Vol  \\\n",
              "DATE                                                                 \n",
              "2008-06-04   6.673571    6.620357  6.670857  0.166305     0.229989   \n",
              "2008-06-05   6.572143    6.613929  6.657857  0.154645     0.069345   \n",
              "2008-06-06   6.655000    6.765357  6.677429  0.155827     0.006562   \n",
              "2008-06-09   6.714286    6.630000  6.655214  0.144179     0.329360   \n",
              "2008-06-10   6.599643    6.486071  6.623143  0.121929     1.499707   \n",
              "\n",
              "            daily_returns  Upper_band     10SMA  1d_Prev_Vol      Prev_Vol  \\\n",
              "DATE                                                                         \n",
              "2008-06-04      -0.003923    6.863812  6.580929     0.103966  7.505204e+08   \n",
              "2008-06-05      -0.000971    6.860104  6.578393    -0.031361  7.269836e+08   \n",
              "2008-06-06       0.022895    6.876954  6.618536     0.039151  7.554456e+08   \n",
              "2008-06-09      -0.020007    6.877852  6.649214     0.279275  9.664228e+08   \n",
              "2008-06-10      -0.021709    6.880449  6.650786     0.954003  1.888393e+09   \n",
              "\n",
              "            ...   10d_RSI    1d_RSI        RSI  2d_Prev_Close  DEXJPUS  \\\n",
              "DATE        ...                                                          \n",
              "2008-06-04  ... -0.054854 -0.018504  57.484047      -0.017907   105.29   \n",
              "2008-06-05  ... -0.090112 -0.004889  57.202994      -0.004890   104.99   \n",
              "2008-06-06  ...  0.170872  0.082557  61.925510       0.021902   106.00   \n",
              "2008-06-09  ...  0.085196 -0.096023  55.979232       0.002430   105.33   \n",
              "2008-06-10  ... -0.096550 -0.099065  50.433633      -0.041282   106.06   \n",
              "\n",
              "              200SMA  10d_Prev_Vol   2d_5SMA  1d_Upper_band  DCOILBRENTEU  \n",
              "DATE                                                                       \n",
              "2008-06-04  5.676195     -0.206487  0.004161       0.000144        126.28  \n",
              "2008-06-05  5.687468     -0.250416 -0.003080      -0.000540        121.72  \n",
              "2008-06-06  5.699470     -0.347436  0.000985       0.002456        122.36  \n",
              "2008-06-09  5.709839     -0.199143 -0.000397       0.000131        132.81  \n",
              "2008-06-10  5.718607      1.082211 -0.008130       0.000377        134.43  \n",
              "\n",
              "[5 rows x 28 columns]"
            ],
            "text/html": [
              "\n",
              "  <div id=\"df-a0644956-6c21-4413-9cc1-29f0678c063a\">\n",
              "    <div class=\"colab-df-container\">\n",
              "      <div>\n",
              "<style scoped>\n",
              "    .dataframe tbody tr th:only-of-type {\n",
              "        vertical-align: middle;\n",
              "    }\n",
              "\n",
              "    .dataframe tbody tr th {\n",
              "        vertical-align: top;\n",
              "    }\n",
              "\n",
              "    .dataframe thead th {\n",
              "        text-align: right;\n",
              "    }\n",
              "</style>\n",
              "<table border=\"1\" class=\"dataframe\">\n",
              "  <thead>\n",
              "    <tr style=\"text-align: right;\">\n",
              "      <th></th>\n",
              "      <th>Prev_Open</th>\n",
              "      <th>Prev_Close</th>\n",
              "      <th>5SMA</th>\n",
              "      <th>MACD</th>\n",
              "      <th>2d_Prev_Vol</th>\n",
              "      <th>daily_returns</th>\n",
              "      <th>Upper_band</th>\n",
              "      <th>10SMA</th>\n",
              "      <th>1d_Prev_Vol</th>\n",
              "      <th>Prev_Vol</th>\n",
              "      <th>...</th>\n",
              "      <th>10d_RSI</th>\n",
              "      <th>1d_RSI</th>\n",
              "      <th>RSI</th>\n",
              "      <th>2d_Prev_Close</th>\n",
              "      <th>DEXJPUS</th>\n",
              "      <th>200SMA</th>\n",
              "      <th>10d_Prev_Vol</th>\n",
              "      <th>2d_5SMA</th>\n",
              "      <th>1d_Upper_band</th>\n",
              "      <th>DCOILBRENTEU</th>\n",
              "    </tr>\n",
              "    <tr>\n",
              "      <th>DATE</th>\n",
              "      <th></th>\n",
              "      <th></th>\n",
              "      <th></th>\n",
              "      <th></th>\n",
              "      <th></th>\n",
              "      <th></th>\n",
              "      <th></th>\n",
              "      <th></th>\n",
              "      <th></th>\n",
              "      <th></th>\n",
              "      <th></th>\n",
              "      <th></th>\n",
              "      <th></th>\n",
              "      <th></th>\n",
              "      <th></th>\n",
              "      <th></th>\n",
              "      <th></th>\n",
              "      <th></th>\n",
              "      <th></th>\n",
              "      <th></th>\n",
              "      <th></th>\n",
              "    </tr>\n",
              "  </thead>\n",
              "  <tbody>\n",
              "    <tr>\n",
              "      <th>2008-06-04</th>\n",
              "      <td>6.673571</td>\n",
              "      <td>6.620357</td>\n",
              "      <td>6.670857</td>\n",
              "      <td>0.166305</td>\n",
              "      <td>0.229989</td>\n",
              "      <td>-0.003923</td>\n",
              "      <td>6.863812</td>\n",
              "      <td>6.580929</td>\n",
              "      <td>0.103966</td>\n",
              "      <td>7.505204e+08</td>\n",
              "      <td>...</td>\n",
              "      <td>-0.054854</td>\n",
              "      <td>-0.018504</td>\n",
              "      <td>57.484047</td>\n",
              "      <td>-0.017907</td>\n",
              "      <td>105.29</td>\n",
              "      <td>5.676195</td>\n",
              "      <td>-0.206487</td>\n",
              "      <td>0.004161</td>\n",
              "      <td>0.000144</td>\n",
              "      <td>126.28</td>\n",
              "    </tr>\n",
              "    <tr>\n",
              "      <th>2008-06-05</th>\n",
              "      <td>6.572143</td>\n",
              "      <td>6.613929</td>\n",
              "      <td>6.657857</td>\n",
              "      <td>0.154645</td>\n",
              "      <td>0.069345</td>\n",
              "      <td>-0.000971</td>\n",
              "      <td>6.860104</td>\n",
              "      <td>6.578393</td>\n",
              "      <td>-0.031361</td>\n",
              "      <td>7.269836e+08</td>\n",
              "      <td>...</td>\n",
              "      <td>-0.090112</td>\n",
              "      <td>-0.004889</td>\n",
              "      <td>57.202994</td>\n",
              "      <td>-0.004890</td>\n",
              "      <td>104.99</td>\n",
              "      <td>5.687468</td>\n",
              "      <td>-0.250416</td>\n",
              "      <td>-0.003080</td>\n",
              "      <td>-0.000540</td>\n",
              "      <td>121.72</td>\n",
              "    </tr>\n",
              "    <tr>\n",
              "      <th>2008-06-06</th>\n",
              "      <td>6.655000</td>\n",
              "      <td>6.765357</td>\n",
              "      <td>6.677429</td>\n",
              "      <td>0.155827</td>\n",
              "      <td>0.006562</td>\n",
              "      <td>0.022895</td>\n",
              "      <td>6.876954</td>\n",
              "      <td>6.618536</td>\n",
              "      <td>0.039151</td>\n",
              "      <td>7.554456e+08</td>\n",
              "      <td>...</td>\n",
              "      <td>0.170872</td>\n",
              "      <td>0.082557</td>\n",
              "      <td>61.925510</td>\n",
              "      <td>0.021902</td>\n",
              "      <td>106.00</td>\n",
              "      <td>5.699470</td>\n",
              "      <td>-0.347436</td>\n",
              "      <td>0.000985</td>\n",
              "      <td>0.002456</td>\n",
              "      <td>122.36</td>\n",
              "    </tr>\n",
              "    <tr>\n",
              "      <th>2008-06-09</th>\n",
              "      <td>6.714286</td>\n",
              "      <td>6.630000</td>\n",
              "      <td>6.655214</td>\n",
              "      <td>0.144179</td>\n",
              "      <td>0.329360</td>\n",
              "      <td>-0.020007</td>\n",
              "      <td>6.877852</td>\n",
              "      <td>6.649214</td>\n",
              "      <td>0.279275</td>\n",
              "      <td>9.664228e+08</td>\n",
              "      <td>...</td>\n",
              "      <td>0.085196</td>\n",
              "      <td>-0.096023</td>\n",
              "      <td>55.979232</td>\n",
              "      <td>0.002430</td>\n",
              "      <td>105.33</td>\n",
              "      <td>5.709839</td>\n",
              "      <td>-0.199143</td>\n",
              "      <td>-0.000397</td>\n",
              "      <td>0.000131</td>\n",
              "      <td>132.81</td>\n",
              "    </tr>\n",
              "    <tr>\n",
              "      <th>2008-06-10</th>\n",
              "      <td>6.599643</td>\n",
              "      <td>6.486071</td>\n",
              "      <td>6.623143</td>\n",
              "      <td>0.121929</td>\n",
              "      <td>1.499707</td>\n",
              "      <td>-0.021709</td>\n",
              "      <td>6.880449</td>\n",
              "      <td>6.650786</td>\n",
              "      <td>0.954003</td>\n",
              "      <td>1.888393e+09</td>\n",
              "      <td>...</td>\n",
              "      <td>-0.096550</td>\n",
              "      <td>-0.099065</td>\n",
              "      <td>50.433633</td>\n",
              "      <td>-0.041282</td>\n",
              "      <td>106.06</td>\n",
              "      <td>5.718607</td>\n",
              "      <td>1.082211</td>\n",
              "      <td>-0.008130</td>\n",
              "      <td>0.000377</td>\n",
              "      <td>134.43</td>\n",
              "    </tr>\n",
              "  </tbody>\n",
              "</table>\n",
              "<p>5 rows × 28 columns</p>\n",
              "</div>\n",
              "      <button class=\"colab-df-convert\" onclick=\"convertToInteractive('df-a0644956-6c21-4413-9cc1-29f0678c063a')\"\n",
              "              title=\"Convert this dataframe to an interactive table.\"\n",
              "              style=\"display:none;\">\n",
              "        \n",
              "  <svg xmlns=\"http://www.w3.org/2000/svg\" height=\"24px\"viewBox=\"0 0 24 24\"\n",
              "       width=\"24px\">\n",
              "    <path d=\"M0 0h24v24H0V0z\" fill=\"none\"/>\n",
              "    <path d=\"M18.56 5.44l.94 2.06.94-2.06 2.06-.94-2.06-.94-.94-2.06-.94 2.06-2.06.94zm-11 1L8.5 8.5l.94-2.06 2.06-.94-2.06-.94L8.5 2.5l-.94 2.06-2.06.94zm10 10l.94 2.06.94-2.06 2.06-.94-2.06-.94-.94-2.06-.94 2.06-2.06.94z\"/><path d=\"M17.41 7.96l-1.37-1.37c-.4-.4-.92-.59-1.43-.59-.52 0-1.04.2-1.43.59L10.3 9.45l-7.72 7.72c-.78.78-.78 2.05 0 2.83L4 21.41c.39.39.9.59 1.41.59.51 0 1.02-.2 1.41-.59l7.78-7.78 2.81-2.81c.8-.78.8-2.07 0-2.86zM5.41 20L4 18.59l7.72-7.72 1.47 1.35L5.41 20z\"/>\n",
              "  </svg>\n",
              "      </button>\n",
              "      \n",
              "  <style>\n",
              "    .colab-df-container {\n",
              "      display:flex;\n",
              "      flex-wrap:wrap;\n",
              "      gap: 12px;\n",
              "    }\n",
              "\n",
              "    .colab-df-convert {\n",
              "      background-color: #E8F0FE;\n",
              "      border: none;\n",
              "      border-radius: 50%;\n",
              "      cursor: pointer;\n",
              "      display: none;\n",
              "      fill: #1967D2;\n",
              "      height: 32px;\n",
              "      padding: 0 0 0 0;\n",
              "      width: 32px;\n",
              "    }\n",
              "\n",
              "    .colab-df-convert:hover {\n",
              "      background-color: #E2EBFA;\n",
              "      box-shadow: 0px 1px 2px rgba(60, 64, 67, 0.3), 0px 1px 3px 1px rgba(60, 64, 67, 0.15);\n",
              "      fill: #174EA6;\n",
              "    }\n",
              "\n",
              "    [theme=dark] .colab-df-convert {\n",
              "      background-color: #3B4455;\n",
              "      fill: #D2E3FC;\n",
              "    }\n",
              "\n",
              "    [theme=dark] .colab-df-convert:hover {\n",
              "      background-color: #434B5C;\n",
              "      box-shadow: 0px 1px 3px 1px rgba(0, 0, 0, 0.15);\n",
              "      filter: drop-shadow(0px 1px 2px rgba(0, 0, 0, 0.3));\n",
              "      fill: #FFFFFF;\n",
              "    }\n",
              "  </style>\n",
              "\n",
              "      <script>\n",
              "        const buttonEl =\n",
              "          document.querySelector('#df-a0644956-6c21-4413-9cc1-29f0678c063a button.colab-df-convert');\n",
              "        buttonEl.style.display =\n",
              "          google.colab.kernel.accessAllowed ? 'block' : 'none';\n",
              "\n",
              "        async function convertToInteractive(key) {\n",
              "          const element = document.querySelector('#df-a0644956-6c21-4413-9cc1-29f0678c063a');\n",
              "          const dataTable =\n",
              "            await google.colab.kernel.invokeFunction('convertToInteractive',\n",
              "                                                     [key], {});\n",
              "          if (!dataTable) return;\n",
              "\n",
              "          const docLinkHtml = 'Like what you see? Visit the ' +\n",
              "            '<a target=\"_blank\" href=https://colab.research.google.com/notebooks/data_table.ipynb>data table notebook</a>'\n",
              "            + ' to learn more about interactive tables.';\n",
              "          element.innerHTML = '';\n",
              "          dataTable['output_type'] = 'display_data';\n",
              "          await google.colab.output.renderOutput(dataTable, element);\n",
              "          const docLink = document.createElement('div');\n",
              "          docLink.innerHTML = docLinkHtml;\n",
              "          element.appendChild(docLink);\n",
              "        }\n",
              "      </script>\n",
              "    </div>\n",
              "  </div>\n",
              "  "
            ]
          },
          "metadata": {},
          "execution_count": 24
        }
      ]
    },
    {
      "cell_type": "code",
      "source": [
        "# Lets do the same for the target variable\n",
        "y.head()"
      ],
      "metadata": {
        "colab": {
          "base_uri": "https://localhost:8080/"
        },
        "id": "exZlMedjn07v",
        "outputId": "6bcacf80-a115-494d-cb57-ed15eb47fc54"
      },
      "execution_count": 25,
      "outputs": [
        {
          "output_type": "execute_result",
          "data": {
            "text/plain": [
              "DATE\n",
              "2008-06-04    6.613929\n",
              "2008-06-05    6.765357\n",
              "2008-06-06    6.630000\n",
              "2008-06-09    6.486071\n",
              "2008-06-10    6.630000\n",
              "Name: Close, dtype: float64"
            ]
          },
          "metadata": {},
          "execution_count": 25
        }
      ]
    },
    {
      "cell_type": "code",
      "source": [
        "# evaluate RFE for Regression\n",
        "import numpy as np\n",
        "from sklearn.model_selection import cross_val_score, KFold\n",
        "from sklearn.feature_selection import RFE\n",
        "from sklearn.tree import DecisionTreeRegressor\n",
        "from sklearn.pipeline import make_pipeline\n",
        "# this ignores the depreciation warnings etc\n",
        "import warnings\n",
        "warnings.filterwarnings(\"ignore\")\n",
        "\n",
        "# create pipeline\n",
        "rfe = RFE(estimator = DecisionTreeRegressor(), n_features_to_select = 4)\n",
        "model = DecisionTreeRegressor()\n",
        "pipeline = make_pipeline(rfe, model)\n",
        "\n",
        "# evaluate model\n",
        "cv = KFold(n_splits = 4)\n",
        "n_scores = cross_val_score(pipeline, X, y, scoring = 'neg_mean_absolute_error', cv=cv, n_jobs=-1)\n",
        "\n",
        "# report performance\n",
        "print('MAE: %.3f (%.3f)' % (np.mean(n_scores), np.std(n_scores)))"
      ],
      "metadata": {
        "colab": {
          "base_uri": "https://localhost:8080/"
        },
        "id": "sAb8DoRZn3Jf",
        "outputId": "91bc3e84-8b5a-43b4-8737-e0b13322b8e4"
      },
      "execution_count": 26,
      "outputs": [
        {
          "output_type": "stream",
          "name": "stdout",
          "text": [
            "MAE: -15.071 (21.195)\n"
          ]
        }
      ]
    },
    {
      "cell_type": "code",
      "source": [
        "# evaluate RFE for Regression\n",
        "import pandas as pd\n",
        "import numpy as np\n",
        "from sklearn.model_selection import cross_val_score, KFold\n",
        "from sklearn.feature_selection import RFECV\n",
        "from sklearn.tree import DecisionTreeRegressor\n",
        "from sklearn.pipeline import make_pipeline\n",
        "# this ignores the depreciation warnings etc\n",
        "import warnings\n",
        "warnings.filterwarnings(\"ignore\")\n",
        "\n",
        "# Create the RFE object and compute a cross-validated score.\n",
        "min_features_to_select = 1  # Minimum number of features to consider\n",
        "cv = KFold(n_splits = 6)\n",
        "rfecv = RFECV(estimator = DecisionTreeRegressor(), step = 1, cv = cv, scoring = 'neg_mean_absolute_error', min_features_to_select = min_features_to_select)\n",
        "rfecv.fit(X, y)\n",
        "model = DecisionTreeRegressor()\n",
        "pipeline = make_pipeline(rfecv, model)\n",
        "\n",
        "# evaluate model\n",
        "cv = KFold(n_splits = 6)\n",
        "n_scores = cross_val_score(pipeline, X, y, scoring = 'neg_mean_absolute_error', cv=cv, n_jobs=-1)\n",
        "\n",
        "# report performance\n",
        "print(\"Optimal number of features : %d\" % rfecv.n_features_)\n",
        "# print('MAE: %.3f (%.3f)' % (np.mean(n_scores), np.std(n_scores)))"
      ],
      "metadata": {
        "colab": {
          "base_uri": "https://localhost:8080/"
        },
        "id": "wYiAlKCfsYTR",
        "outputId": "dd50f911-fcd6-4dc4-bfe3-2dfbc72e55c6"
      },
      "execution_count": 27,
      "outputs": [
        {
          "output_type": "stream",
          "name": "stdout",
          "text": [
            "Optimal number of features : 25\n"
          ]
        }
      ]
    },
    {
      "cell_type": "code",
      "source": [
        "# summarize the selection of the attributes\n",
        "print(rfecv.support_)"
      ],
      "metadata": {
        "colab": {
          "base_uri": "https://localhost:8080/"
        },
        "id": "PD8Tc5zjw0Wy",
        "outputId": "c398b8b1-449e-4142-b5d8-9bfe8fa6ae3f"
      },
      "execution_count": 28,
      "outputs": [
        {
          "output_type": "stream",
          "name": "stdout",
          "text": [
            "[ True  True  True  True  True False  True  True  True  True  True  True\n",
            "  True  True  True  True  True  True  True  True False  True False  True\n",
            "  True  True  True  True]\n"
          ]
        }
      ]
    },
    {
      "cell_type": "code",
      "source": [
        "# summarize the ranking of the attributes\n",
        "fea_rank_ = pd.DataFrame({'cols':X.columns, 'fea_rank':rfecv.ranking_})\n",
        "fea_rank_.loc[fea_rank_.fea_rank > 0].sort_values(by=['fea_rank'], ascending = True)"
      ],
      "metadata": {
        "colab": {
          "base_uri": "https://localhost:8080/",
          "height": 927
        },
        "id": "pBkRrsK7xfR5",
        "outputId": "6b8cd845-44da-41a3-da2b-ff1bb6cc2ba7"
      },
      "execution_count": 29,
      "outputs": [
        {
          "output_type": "execute_result",
          "data": {
            "text/plain": [
              "             cols  fea_rank\n",
              "0       Prev_Open         1\n",
              "25        2d_5SMA         1\n",
              "24   10d_Prev_Vol         1\n",
              "23         200SMA         1\n",
              "21  2d_Prev_Close         1\n",
              "19         1d_RSI         1\n",
              "18        10d_RSI         1\n",
              "17    5d_Prev_Vol         1\n",
              "16          20SMA         1\n",
              "15          50SMA         1\n",
              "14         2d_RSI         1\n",
              "26  1d_Upper_band         1\n",
              "13    MACD_signal         1\n",
              "11        DEXUSEU         1\n",
              "10         GVZCLS         1\n",
              "9        Prev_Vol         1\n",
              "8     1d_Prev_Vol         1\n",
              "7           10SMA         1\n",
              "6      Upper_band         1\n",
              "4     2d_Prev_Vol         1\n",
              "3            MACD         1\n",
              "2            5SMA         1\n",
              "1      Prev_Close         1\n",
              "12     Lower_band         1\n",
              "27   DCOILBRENTEU         1\n",
              "22        DEXJPUS         2\n",
              "20            RSI         3\n",
              "5   daily_returns         4"
            ],
            "text/html": [
              "\n",
              "  <div id=\"df-c2331902-24e9-4407-bc1c-18ccc4bdec28\">\n",
              "    <div class=\"colab-df-container\">\n",
              "      <div>\n",
              "<style scoped>\n",
              "    .dataframe tbody tr th:only-of-type {\n",
              "        vertical-align: middle;\n",
              "    }\n",
              "\n",
              "    .dataframe tbody tr th {\n",
              "        vertical-align: top;\n",
              "    }\n",
              "\n",
              "    .dataframe thead th {\n",
              "        text-align: right;\n",
              "    }\n",
              "</style>\n",
              "<table border=\"1\" class=\"dataframe\">\n",
              "  <thead>\n",
              "    <tr style=\"text-align: right;\">\n",
              "      <th></th>\n",
              "      <th>cols</th>\n",
              "      <th>fea_rank</th>\n",
              "    </tr>\n",
              "  </thead>\n",
              "  <tbody>\n",
              "    <tr>\n",
              "      <th>0</th>\n",
              "      <td>Prev_Open</td>\n",
              "      <td>1</td>\n",
              "    </tr>\n",
              "    <tr>\n",
              "      <th>25</th>\n",
              "      <td>2d_5SMA</td>\n",
              "      <td>1</td>\n",
              "    </tr>\n",
              "    <tr>\n",
              "      <th>24</th>\n",
              "      <td>10d_Prev_Vol</td>\n",
              "      <td>1</td>\n",
              "    </tr>\n",
              "    <tr>\n",
              "      <th>23</th>\n",
              "      <td>200SMA</td>\n",
              "      <td>1</td>\n",
              "    </tr>\n",
              "    <tr>\n",
              "      <th>21</th>\n",
              "      <td>2d_Prev_Close</td>\n",
              "      <td>1</td>\n",
              "    </tr>\n",
              "    <tr>\n",
              "      <th>19</th>\n",
              "      <td>1d_RSI</td>\n",
              "      <td>1</td>\n",
              "    </tr>\n",
              "    <tr>\n",
              "      <th>18</th>\n",
              "      <td>10d_RSI</td>\n",
              "      <td>1</td>\n",
              "    </tr>\n",
              "    <tr>\n",
              "      <th>17</th>\n",
              "      <td>5d_Prev_Vol</td>\n",
              "      <td>1</td>\n",
              "    </tr>\n",
              "    <tr>\n",
              "      <th>16</th>\n",
              "      <td>20SMA</td>\n",
              "      <td>1</td>\n",
              "    </tr>\n",
              "    <tr>\n",
              "      <th>15</th>\n",
              "      <td>50SMA</td>\n",
              "      <td>1</td>\n",
              "    </tr>\n",
              "    <tr>\n",
              "      <th>14</th>\n",
              "      <td>2d_RSI</td>\n",
              "      <td>1</td>\n",
              "    </tr>\n",
              "    <tr>\n",
              "      <th>26</th>\n",
              "      <td>1d_Upper_band</td>\n",
              "      <td>1</td>\n",
              "    </tr>\n",
              "    <tr>\n",
              "      <th>13</th>\n",
              "      <td>MACD_signal</td>\n",
              "      <td>1</td>\n",
              "    </tr>\n",
              "    <tr>\n",
              "      <th>11</th>\n",
              "      <td>DEXUSEU</td>\n",
              "      <td>1</td>\n",
              "    </tr>\n",
              "    <tr>\n",
              "      <th>10</th>\n",
              "      <td>GVZCLS</td>\n",
              "      <td>1</td>\n",
              "    </tr>\n",
              "    <tr>\n",
              "      <th>9</th>\n",
              "      <td>Prev_Vol</td>\n",
              "      <td>1</td>\n",
              "    </tr>\n",
              "    <tr>\n",
              "      <th>8</th>\n",
              "      <td>1d_Prev_Vol</td>\n",
              "      <td>1</td>\n",
              "    </tr>\n",
              "    <tr>\n",
              "      <th>7</th>\n",
              "      <td>10SMA</td>\n",
              "      <td>1</td>\n",
              "    </tr>\n",
              "    <tr>\n",
              "      <th>6</th>\n",
              "      <td>Upper_band</td>\n",
              "      <td>1</td>\n",
              "    </tr>\n",
              "    <tr>\n",
              "      <th>4</th>\n",
              "      <td>2d_Prev_Vol</td>\n",
              "      <td>1</td>\n",
              "    </tr>\n",
              "    <tr>\n",
              "      <th>3</th>\n",
              "      <td>MACD</td>\n",
              "      <td>1</td>\n",
              "    </tr>\n",
              "    <tr>\n",
              "      <th>2</th>\n",
              "      <td>5SMA</td>\n",
              "      <td>1</td>\n",
              "    </tr>\n",
              "    <tr>\n",
              "      <th>1</th>\n",
              "      <td>Prev_Close</td>\n",
              "      <td>1</td>\n",
              "    </tr>\n",
              "    <tr>\n",
              "      <th>12</th>\n",
              "      <td>Lower_band</td>\n",
              "      <td>1</td>\n",
              "    </tr>\n",
              "    <tr>\n",
              "      <th>27</th>\n",
              "      <td>DCOILBRENTEU</td>\n",
              "      <td>1</td>\n",
              "    </tr>\n",
              "    <tr>\n",
              "      <th>22</th>\n",
              "      <td>DEXJPUS</td>\n",
              "      <td>2</td>\n",
              "    </tr>\n",
              "    <tr>\n",
              "      <th>20</th>\n",
              "      <td>RSI</td>\n",
              "      <td>3</td>\n",
              "    </tr>\n",
              "    <tr>\n",
              "      <th>5</th>\n",
              "      <td>daily_returns</td>\n",
              "      <td>4</td>\n",
              "    </tr>\n",
              "  </tbody>\n",
              "</table>\n",
              "</div>\n",
              "      <button class=\"colab-df-convert\" onclick=\"convertToInteractive('df-c2331902-24e9-4407-bc1c-18ccc4bdec28')\"\n",
              "              title=\"Convert this dataframe to an interactive table.\"\n",
              "              style=\"display:none;\">\n",
              "        \n",
              "  <svg xmlns=\"http://www.w3.org/2000/svg\" height=\"24px\"viewBox=\"0 0 24 24\"\n",
              "       width=\"24px\">\n",
              "    <path d=\"M0 0h24v24H0V0z\" fill=\"none\"/>\n",
              "    <path d=\"M18.56 5.44l.94 2.06.94-2.06 2.06-.94-2.06-.94-.94-2.06-.94 2.06-2.06.94zm-11 1L8.5 8.5l.94-2.06 2.06-.94-2.06-.94L8.5 2.5l-.94 2.06-2.06.94zm10 10l.94 2.06.94-2.06 2.06-.94-2.06-.94-.94-2.06-.94 2.06-2.06.94z\"/><path d=\"M17.41 7.96l-1.37-1.37c-.4-.4-.92-.59-1.43-.59-.52 0-1.04.2-1.43.59L10.3 9.45l-7.72 7.72c-.78.78-.78 2.05 0 2.83L4 21.41c.39.39.9.59 1.41.59.51 0 1.02-.2 1.41-.59l7.78-7.78 2.81-2.81c.8-.78.8-2.07 0-2.86zM5.41 20L4 18.59l7.72-7.72 1.47 1.35L5.41 20z\"/>\n",
              "  </svg>\n",
              "      </button>\n",
              "      \n",
              "  <style>\n",
              "    .colab-df-container {\n",
              "      display:flex;\n",
              "      flex-wrap:wrap;\n",
              "      gap: 12px;\n",
              "    }\n",
              "\n",
              "    .colab-df-convert {\n",
              "      background-color: #E8F0FE;\n",
              "      border: none;\n",
              "      border-radius: 50%;\n",
              "      cursor: pointer;\n",
              "      display: none;\n",
              "      fill: #1967D2;\n",
              "      height: 32px;\n",
              "      padding: 0 0 0 0;\n",
              "      width: 32px;\n",
              "    }\n",
              "\n",
              "    .colab-df-convert:hover {\n",
              "      background-color: #E2EBFA;\n",
              "      box-shadow: 0px 1px 2px rgba(60, 64, 67, 0.3), 0px 1px 3px 1px rgba(60, 64, 67, 0.15);\n",
              "      fill: #174EA6;\n",
              "    }\n",
              "\n",
              "    [theme=dark] .colab-df-convert {\n",
              "      background-color: #3B4455;\n",
              "      fill: #D2E3FC;\n",
              "    }\n",
              "\n",
              "    [theme=dark] .colab-df-convert:hover {\n",
              "      background-color: #434B5C;\n",
              "      box-shadow: 0px 1px 3px 1px rgba(0, 0, 0, 0.15);\n",
              "      filter: drop-shadow(0px 1px 2px rgba(0, 0, 0, 0.3));\n",
              "      fill: #FFFFFF;\n",
              "    }\n",
              "  </style>\n",
              "\n",
              "      <script>\n",
              "        const buttonEl =\n",
              "          document.querySelector('#df-c2331902-24e9-4407-bc1c-18ccc4bdec28 button.colab-df-convert');\n",
              "        buttonEl.style.display =\n",
              "          google.colab.kernel.accessAllowed ? 'block' : 'none';\n",
              "\n",
              "        async function convertToInteractive(key) {\n",
              "          const element = document.querySelector('#df-c2331902-24e9-4407-bc1c-18ccc4bdec28');\n",
              "          const dataTable =\n",
              "            await google.colab.kernel.invokeFunction('convertToInteractive',\n",
              "                                                     [key], {});\n",
              "          if (!dataTable) return;\n",
              "\n",
              "          const docLinkHtml = 'Like what you see? Visit the ' +\n",
              "            '<a target=\"_blank\" href=https://colab.research.google.com/notebooks/data_table.ipynb>data table notebook</a>'\n",
              "            + ' to learn more about interactive tables.';\n",
              "          element.innerHTML = '';\n",
              "          dataTable['output_type'] = 'display_data';\n",
              "          await google.colab.output.renderOutput(dataTable, element);\n",
              "          const docLink = document.createElement('div');\n",
              "          docLink.innerHTML = docLinkHtml;\n",
              "          element.appendChild(docLink);\n",
              "        }\n",
              "      </script>\n",
              "    </div>\n",
              "  </div>\n",
              "  "
            ]
          },
          "metadata": {},
          "execution_count": 29
        }
      ]
    },
    {
      "cell_type": "code",
      "source": [
        "# Plot number of features VS. cross-validation scores\n",
        "import matplotlib.pyplot as plt\n",
        "\n",
        "plt.figure()\n",
        "plt.xlabel(\"Number of features selected\")\n",
        "plt.ylabel(\"Cross validation score (MAE)\")\n",
        "plt.plot(\n",
        "    range(min_features_to_select, len(rfecv.grid_scores_) + min_features_to_select),\n",
        "    rfecv.grid_scores_,\n",
        ")\n",
        "plt.show()"
      ],
      "metadata": {
        "colab": {
          "base_uri": "https://localhost:8080/",
          "height": 361
        },
        "id": "rVCfIzD7ypGu",
        "outputId": "4e02c327-6304-49b9-edfd-158177128338"
      },
      "execution_count": 30,
      "outputs": [
        {
          "output_type": "display_data",
          "data": {
            "text/plain": [
              "<Figure size 576x396 with 1 Axes>"
            ],
            "image/png": "[encoded data removed]"
          },
          "metadata": {}
        }
      ]
    },
    {
      "cell_type": "markdown",
      "source": [
        "[Reference](https://www.scikit-yb.org/en/latest/api/model_selection/rfecv.html)"
      ],
      "metadata": {
        "id": "KD_eP9O54Ff6"
      }
    },
    {
      "cell_type": "code",
      "source": [
        "from yellowbrick.model_selection import RFECV\n",
        "\n",
        "# Instantiate RFECV visualizer with a DecisionTreeRegressor\n",
        "min_features_to_select = 10\n",
        "cv = KFold(n_splits = 6)\n",
        "rfecv = RFECV(estimator = DecisionTreeRegressor(), step = 1, cv = cv, scoring = 'neg_mean_absolute_error', min_features_to_select = min_features_to_select)\n",
        "visualizer = rfecv\n",
        "\n",
        "# print(\"Optimal number of features : %d\" % rfecv.n_features_)\n",
        "\n",
        "visualizer.fit(X, y)        # Fit the data to the visualizer\n",
        "visualizer.show()           # Finalize and render the figure"
      ],
      "metadata": {
        "colab": {
          "base_uri": "https://localhost:8080/",
          "height": 393
        },
        "id": "rDZa2WHl1GeX",
        "outputId": "a2a15ca6-2082-4c66-a0d1-8fed2084cb1a"
      },
      "execution_count": 31,
      "outputs": [
        {
          "output_type": "display_data",
          "data": {
            "text/plain": [
              "<Figure size 576x396 with 1 Axes>"
            ],
            "image/png": "[encoded data removed]"
          },
          "metadata": {}
        },
        {
          "output_type": "execute_result",
          "data": {
            "text/plain": [
              "<matplotlib.axes._subplots.AxesSubplot at 0x7f0e40317dd0>"
            ]
          },
          "metadata": {},
          "execution_count": 31
        }
      ]
    },
    {
      "cell_type": "markdown",
      "source": [
        "## Dimensionality Reduction"
      ],
      "metadata": {
        "id": "dindWUrcz9jp"
      }
    },
    {
      "cell_type": "code",
      "source": [
        "import pandas as pd\n",
        "df = pd.read_csv('AAPL.csv', index_col = 'DATE', parse_dates = True)\n",
        "X = df.drop(['Open', 'Close', 'Volume'], axis=1)\n",
        "y = df['Close']\n",
        "\n",
        "from sklearn.model_selection import train_test_split\n",
        "X_train, X_test, y_train, y_test = train_test_split(X, y, test_size = 0.15, random_state = 22)\n",
        "X_train, X_valid, y_train, y_valid = train_test_split(X_train, y_train, test_size = 0.15, random_state = 22)\n",
        "\n",
        "from sklearn.preprocessing import StandardScaler\n",
        "scaler = StandardScaler()\n",
        "X_train_std = scaler.fit_transform(X_train)"
      ],
      "metadata": {
        "id": "vlpI-_Cq0KTJ"
      },
      "execution_count": 32,
      "outputs": []
    },
    {
      "cell_type": "code",
      "source": [
        "from sklearn.decomposition import PCA\n",
        "pca = PCA(n_components=25)\n",
        "X_train_reduced = pca.fit_transform(X_train_std)\n",
        "X_train_reduced"
      ],
      "metadata": {
        "colab": {
          "base_uri": "https://localhost:8080/"
        },
        "id": "KlQb3snn3VjI",
        "outputId": "a78bcde3-bae0-44af-b7e8-d3297173ca9c"
      },
      "execution_count": 41,
      "outputs": [
        {
          "output_type": "execute_result",
          "data": {
            "text/plain": [
              "array([[ 0.77777112, -1.1072998 , -1.52495257, ..., -0.82278681,\n",
              "        -0.40313656, -0.21804445],\n",
              "       [-5.26410882, -3.15325151, -1.20345282, ...,  0.50073853,\n",
              "         0.66177511,  1.39249964],\n",
              "       [ 0.38916325, -2.34298324,  0.9162748 , ..., -0.3987408 ,\n",
              "        -1.39974383,  0.68861864],\n",
              "       ...,\n",
              "       [ 2.71442573, -3.51152246,  6.89113161, ..., -0.57376631,\n",
              "         0.10010326, -0.88141325],\n",
              "       [ 1.95578428, -0.52723828, -2.69088013, ..., -0.96994425,\n",
              "        -0.38624072, -0.08616727],\n",
              "       [15.72059623, -4.33589229,  4.61701145, ...,  1.13075354,\n",
              "        -0.36835776, -1.48386445]])"
            ]
          },
          "metadata": {},
          "execution_count": 41
        }
      ]
    },
    {
      "cell_type": "code",
      "source": [
        "print(pca.explained_variance_ratio_.cumsum())"
      ],
      "metadata": {
        "colab": {
          "base_uri": "https://localhost:8080/"
        },
        "id": "fo0jKyJ40MNa",
        "outputId": "940dd0e5-efdc-41f0-cb19-94c085764bd9"
      },
      "execution_count": 42,
      "outputs": [
        {
          "output_type": "stream",
          "name": "stdout",
          "text": [
            "[0.24913235 0.39768042 0.51621825 0.58631949 0.63562541 0.67615272\n",
            " 0.70824766 0.7338576  0.75589352 0.7743485  0.78972709 0.80402339\n",
            " 0.81771686 0.83113549 0.84420745 0.85713685 0.87005323 0.88279596\n",
            " 0.89532453 0.90743207 0.91876101 0.92983203 0.93947965 0.94883396\n",
            " 0.95647369]\n"
          ]
        }
      ]
    },
    {
      "cell_type": "code",
      "source": [
        "var = pca.explained_variance_ratio_\n",
        "plt.figure(figsize = (10,8))\n",
        "plt.plot(var)\n",
        "plt.xlabel('Principal Component Index')\n",
        "plt.ylabel('Explained Variance Ratio')\n",
        "plt.show()"
      ],
      "metadata": {
        "colab": {
          "base_uri": "https://localhost:8080/",
          "height": 497
        },
        "id": "F5lpkrKx0PJK",
        "outputId": "77873ada-7987-4b4a-fca0-a1acbd5cba07"
      },
      "execution_count": 43,
      "outputs": [
        {
          "output_type": "display_data",
          "data": {
            "text/plain": [
              "<Figure size 720x576 with 1 Axes>"
            ],
            "image/png": "[encoded data removed]"
          },
          "metadata": {}
        }
      ]
    },
    {
      "cell_type": "code",
      "source": [
        "!pip install xgb"
      ],
      "metadata": {
        "colab": {
          "base_uri": "https://localhost:8080/"
        },
        "id": "Ivr-7Al9-YUp",
        "outputId": "5656155c-cbce-405d-cb50-ec39e6f605b3"
      },
      "execution_count": 69,
      "outputs": [
        {
          "output_type": "stream",
          "name": "stdout",
          "text": [
            "Looking in indexes: https://pypi.org/simple, https://us-python.pkg.dev/colab-wheels/public/simple/\n",
            "\u001b[31mERROR: Could not find a version that satisfies the requirement xgb (from versions: none)\u001b[0m\n",
            "\u001b[31mERROR: No matching distribution found for xgb\u001b[0m\n"
          ]
        }
      ]
    },
    {
      "cell_type": "code",
      "source": [
        "# import multiple models \n",
        "from time import time\n",
        "from sklearn.model_selection import RepeatedKFold\n",
        "from sklearn.model_selection import GridSearchCV\n",
        "from sklearn.linear_model import LinearRegression, Ridge, Lasso, ElasticNet\n",
        "from sklearn.neighbors import KNeighborsRegressor\n",
        "from sklearn.ensemble import GradientBoostingRegressor\n",
        "from sklearn.ensemble import ExtraTreesRegressor, RandomForestRegressor\n",
        "from sklearn.tree import DecisionTreeRegressor\n",
        "from lightgbm import LGBMRegressor\n",
        "from xgboost import XGBRegressor\n",
        "\n",
        "from sklearn.metrics import explained_variance_score, mean_absolute_error, r2_score, mean_squared_error\n",
        "import seaborn as sns\n",
        "\n",
        "# create a list of these models\n",
        "regressors = [\n",
        "    KNeighborsRegressor(),\n",
        "    GradientBoostingRegressor(),\n",
        "    ExtraTreesRegressor(),\n",
        "    RandomForestRegressor(),\n",
        "    DecisionTreeRegressor(),\n",
        "    LGBMRegressor(),\n",
        "    XGBRegressor(objective='reg:squarederror', n_estimators=10, seed = 22),\n",
        "    LinearRegression(),\n",
        "    Lasso(),\n",
        "    Ridge(),\n",
        "    ElasticNet()\n",
        "    ]"
      ],
      "metadata": {
        "id": "xA0RJyR_0xWi"
      },
      "execution_count": 95,
      "outputs": []
    },
    {
      "cell_type": "code",
      "source": [
        "X_valid_std = scaler.transform(X_valid)\n",
        "X_valid_reduced = pca.transform(X_valid)"
      ],
      "metadata": {
        "id": "SNtMQX3L1Ppi"
      },
      "execution_count": 96,
      "outputs": []
    },
    {
      "cell_type": "code",
      "source": [
        "# loops through models and record their performance \n",
        "head = 12\n",
        "for model in regressors[:head]:\n",
        "    start = time()\n",
        "    model.fit(X_train_reduced, y_train)\n",
        "    train_time = time() - start\n",
        "    start = time()\n",
        "    y_pred = model.predict(X_valid_reduced)\n",
        "    predict_time = time()-start    \n",
        "    print(model)\n",
        "    print(\"\\tTraining time: %0.3fs\" % train_time)\n",
        "    print(\"\\tPrediction time: %0.3fs\" % predict_time)\n",
        "    print(\"\\tExplained variance:\", explained_variance_score(y_valid, y_pred))\n",
        "    print('\\tRMSE: %f' % np.sqrt(mean_squared_error(y_valid, y_pred)))\n",
        "    print(\"\\tMean absolute error:\", mean_absolute_error(y_valid, y_pred))\n",
        "    print(\"\\tR2 score:\", r2_score(y_valid, y_pred))\n",
        "    print()"
      ],
      "metadata": {
        "colab": {
          "base_uri": "https://localhost:8080/"
        },
        "id": "ltdHoFQk088L",
        "outputId": "41c02f6d-8a75-4f85-a792-b303d1ce6c34"
      },
      "execution_count": 97,
      "outputs": [
        {
          "output_type": "stream",
          "name": "stdout",
          "text": [
            "KNeighborsRegressor()\n",
            "\tTraining time: 0.001s\n",
            "\tPrediction time: 0.025s\n",
            "\tExplained variance: 2.220446049250313e-16\n",
            "\tRMSE: 59.680497\n",
            "\tMean absolute error: 40.1005854807637\n",
            "\tR2 score: -0.8223953128043051\n",
            "\n",
            "GradientBoostingRegressor()\n",
            "\tTraining time: 2.040s\n",
            "\tPrediction time: 0.001s\n",
            "\tExplained variance: 0.0\n",
            "\tRMSE: 70.208360\n",
            "\tMean absolute error: 54.541489603922386\n",
            "\tR2 score: -1.5220598143778474\n",
            "\n",
            "ExtraTreesRegressor()\n",
            "\tTraining time: 1.423s\n",
            "\tPrediction time: 0.010s\n",
            "\tExplained variance: 0.0\n",
            "\tRMSE: 57.462413\n",
            "\tMean absolute error: 37.07253351845283\n",
            "\tR2 score: -0.6894504354309159\n",
            "\n",
            "RandomForestRegressor()\n",
            "\tTraining time: 4.081s\n",
            "\tPrediction time: 0.011s\n",
            "\tExplained variance: 0.0\n",
            "\tRMSE: 58.637518\n",
            "\tMean absolute error: 38.6240406637002\n",
            "\tR2 score: -0.7592553898214698\n",
            "\n",
            "DecisionTreeRegressor()\n",
            "\tTraining time: 0.070s\n",
            "\tPrediction time: 0.001s\n",
            "\tExplained variance: 0.0\n",
            "\tRMSE: 59.545993\n",
            "\tMean absolute error: 39.90572017640643\n",
            "\tR2 score: -0.8141901700018894\n",
            "\n",
            "LGBMRegressor()\n",
            "\tTraining time: 0.636s\n",
            "\tPrediction time: 0.001s\n",
            "\tExplained variance: 2.220446049250313e-16\n",
            "\tRMSE: 63.849508\n",
            "\tMean absolute error: 46.0686447443756\n",
            "\tR2 score: -1.0858969229138125\n",
            "\n",
            "XGBRegressor(n_estimators=10, objective='reg:squarederror', seed=22)\n",
            "\tTraining time: 0.055s\n",
            "\tPrediction time: 0.000s\n",
            "\tExplained variance: 0.0\n",
            "\tRMSE: 56.955650\n",
            "\tMean absolute error: 36.45041960017184\n",
            "\tR2 score: -0.6597831396979463\n",
            "\n",
            "LinearRegression()\n",
            "\tTraining time: 0.011s\n",
            "\tPrediction time: 0.004s\n",
            "\tExplained variance: -4880702662801.098\n",
            "\tRMSE: 145545987.024962\n",
            "\tMean absolute error: 107910126.5653402\n",
            "\tR2 score: -10838725090993.53\n",
            "\n",
            "Lasso()\n",
            "\tTraining time: 0.005s\n",
            "\tPrediction time: 0.001s\n",
            "\tExplained variance: -24675399306617.613\n",
            "\tRMSE: 327261353.985748\n",
            "\tMean absolute error: 242638443.82758328\n",
            "\tR2 score: -54798311356838.6\n",
            "\n",
            "Ridge()\n",
            "\tTraining time: 0.005s\n",
            "\tPrediction time: 0.001s\n",
            "\tExplained variance: -4889494004867.59\n",
            "\tRMSE: 145677012.052666\n",
            "\tMean absolute error: 108007271.83455148\n",
            "\tR2 score: -10858248590244.707\n",
            "\n",
            "ElasticNet()\n",
            "\tTraining time: 0.006s\n",
            "\tPrediction time: 0.001s\n",
            "\tExplained variance: -27279798256088.56\n",
            "\tRMSE: 344099021.370310\n",
            "\tMean absolute error: 255122355.90665746\n",
            "\tR2 score: -60582139245099.13\n",
            "\n"
          ]
        }
      ]
    },
    {
      "cell_type": "markdown",
      "source": [
        "## Hyperparameter Tuning\n",
        "\n",
        "Fitting 10 folds for each of 84 candidates, totalling 840 fits\n",
        "Best parameters found: {'learning_rate': 0.1, 'n_estimators': 350, 'subsample': 0.5}\n",
        "Lowest RMSE found: 3.656886711120419"
      ],
      "metadata": {
        "id": "Y8l6Kff9PAwr"
      }
    },
    {
      "cell_type": "code",
      "source": [
        "# grid search\n",
        "model = XGBRegressor(objective='reg:squarederror', seed = 22)\n",
        "# n_estimators = range(50, 400, 50)\n",
        "param_grid = {'learning_rate': [0.01, 0.1, 0.5, 0.9],\n",
        "              'n_estimators': range(50, 400, 50),\n",
        "              'subsample':[0.3, 0.5, 0.9]}\n",
        "              # Best learning rate turns out to be 0.5 out of 'learning_rate': [0.01, 0.1, 0.5, 0.9]\n",
        "              # best n_estimator turns out to be 350 out of 'n_estimators': range(50, 400, 50)\n",
        "              # best subsample turns out to be \n",
        "# dict(n_estimators=n_estimators)\n",
        "kfold = KFold(n_splits=10)\n",
        "grid_search = GridSearchCV(model, param_grid, scoring=\"neg_mean_squared_error\", n_jobs=-1, cv=kfold, verbose=1)\n",
        "grid_result = grid_search.fit(X_train_reduced, y_train)\n",
        "# summarize results\n",
        "# print(\"Best: %f using %s\" % (grid_result.best_score_, grid_result.best_params_))\n",
        "print('Best parameters found:', grid_result.best_params_)\n",
        "print('Lowest RMSE found:', np.sqrt(np.abs(grid_result.best_score_)))\n",
        "means = grid_result.cv_results_['mean_test_score']\n",
        "stds = grid_result.cv_results_['std_test_score']\n",
        "params = grid_result.cv_results_['params']\n",
        "# for mean, stdev, param in zip(means, stds, params):\n",
        "# \tprint(\"%f (%f) with: %r\" % (mean, stdev, param))\n",
        "# plot\n",
        "# plt.errorbar(n_estimators, means, yerr=stds)\n",
        "# plt.title(\"XGBoost n_estimators vs RMSE\")\n",
        "# plt.xlabel('n_estimators')\n",
        "# plt.ylabel('RMSE')\n",
        "# plt.savefig('n_estimators.png')"
      ],
      "metadata": {
        "colab": {
          "base_uri": "https://localhost:8080/"
        },
        "id": "iUmVhyJ74JVM",
        "outputId": "4240e06d-c68d-48b0-cb27-e104b07e9e25"
      },
      "execution_count": 91,
      "outputs": [
        {
          "output_type": "stream",
          "name": "stdout",
          "text": [
            "Fitting 10 folds for each of 84 candidates, totalling 840 fits\n",
            "Best parameters found: {'learning_rate': 0.1, 'n_estimators': 350, 'subsample': 0.5}\n",
            "Lowest RMSE found: 3.656886711120419\n"
          ]
        }
      ]
    },
    {
      "cell_type": "code",
      "source": [
        "for mean, stdev, param in zip(means, stds, params):\n",
        "  print('%.2f   (%.2f)    with %r' % (mean, stdev, param))"
      ],
      "metadata": {
        "colab": {
          "base_uri": "https://localhost:8080/"
        },
        "id": "oh0wXENS7fub",
        "outputId": "ca6316b7-49e0-4240-b7cf-07e452141cb2"
      },
      "execution_count": 94,
      "outputs": [
        {
          "output_type": "stream",
          "name": "stdout",
          "text": [
            "-1414.33   (271.11)    with {'learning_rate': 0.01, 'n_estimators': 50, 'subsample': 0.3}\n",
            "-1405.25   (268.90)    with {'learning_rate': 0.01, 'n_estimators': 50, 'subsample': 0.5}\n",
            "-1399.67   (269.69)    with {'learning_rate': 0.01, 'n_estimators': 50, 'subsample': 0.9}\n",
            "-609.67   (116.56)    with {'learning_rate': 0.01, 'n_estimators': 100, 'subsample': 0.3}\n",
            "-602.04   (115.47)    with {'learning_rate': 0.01, 'n_estimators': 100, 'subsample': 0.5}\n",
            "-598.90   (116.07)    with {'learning_rate': 0.01, 'n_estimators': 100, 'subsample': 0.9}\n",
            "-289.33   (54.84)    with {'learning_rate': 0.01, 'n_estimators': 150, 'subsample': 0.3}\n",
            "-285.31   (53.71)    with {'learning_rate': 0.01, 'n_estimators': 150, 'subsample': 0.5}\n",
            "-285.56   (53.75)    with {'learning_rate': 0.01, 'n_estimators': 150, 'subsample': 0.9}\n",
            "-156.27   (28.98)    with {'learning_rate': 0.01, 'n_estimators': 200, 'subsample': 0.3}\n",
            "-154.59   (28.52)    with {'learning_rate': 0.01, 'n_estimators': 200, 'subsample': 0.5}\n",
            "-156.36   (28.90)    with {'learning_rate': 0.01, 'n_estimators': 200, 'subsample': 0.9}\n",
            "-97.66   (17.84)    with {'learning_rate': 0.01, 'n_estimators': 250, 'subsample': 0.3}\n",
            "-97.70   (18.23)    with {'learning_rate': 0.01, 'n_estimators': 250, 'subsample': 0.5}\n",
            "-100.16   (18.67)    with {'learning_rate': 0.01, 'n_estimators': 250, 'subsample': 0.9}\n",
            "-69.05   (12.65)    with {'learning_rate': 0.01, 'n_estimators': 300, 'subsample': 0.3}\n",
            "-69.62   (12.78)    with {'learning_rate': 0.01, 'n_estimators': 300, 'subsample': 0.5}\n",
            "-72.96   (13.23)    with {'learning_rate': 0.01, 'n_estimators': 300, 'subsample': 0.9}\n",
            "-53.32   (9.55)    with {'learning_rate': 0.01, 'n_estimators': 350, 'subsample': 0.3}\n",
            "-54.14   (9.78)    with {'learning_rate': 0.01, 'n_estimators': 350, 'subsample': 0.5}\n",
            "-57.48   (9.99)    with {'learning_rate': 0.01, 'n_estimators': 350, 'subsample': 0.9}\n",
            "-37.48   (6.25)    with {'learning_rate': 0.1, 'n_estimators': 50, 'subsample': 0.3}\n",
            "-36.74   (6.04)    with {'learning_rate': 0.1, 'n_estimators': 50, 'subsample': 0.5}\n",
            "-38.41   (5.92)    with {'learning_rate': 0.1, 'n_estimators': 50, 'subsample': 0.9}\n",
            "-23.57   (3.50)    with {'learning_rate': 0.1, 'n_estimators': 100, 'subsample': 0.3}\n",
            "-22.85   (3.85)    with {'learning_rate': 0.1, 'n_estimators': 100, 'subsample': 0.5}\n",
            "-24.70   (3.90)    with {'learning_rate': 0.1, 'n_estimators': 100, 'subsample': 0.9}\n",
            "-19.34   (2.93)    with {'learning_rate': 0.1, 'n_estimators': 150, 'subsample': 0.3}\n",
            "-18.27   (3.21)    with {'learning_rate': 0.1, 'n_estimators': 150, 'subsample': 0.5}\n",
            "-19.77   (3.24)    with {'learning_rate': 0.1, 'n_estimators': 150, 'subsample': 0.9}\n",
            "-17.17   (2.65)    with {'learning_rate': 0.1, 'n_estimators': 200, 'subsample': 0.3}\n",
            "-16.11   (3.05)    with {'learning_rate': 0.1, 'n_estimators': 200, 'subsample': 0.5}\n",
            "-17.29   (2.94)    with {'learning_rate': 0.1, 'n_estimators': 200, 'subsample': 0.9}\n",
            "-16.22   (2.46)    with {'learning_rate': 0.1, 'n_estimators': 250, 'subsample': 0.3}\n",
            "-14.83   (2.80)    with {'learning_rate': 0.1, 'n_estimators': 250, 'subsample': 0.5}\n",
            "-15.89   (2.74)    with {'learning_rate': 0.1, 'n_estimators': 250, 'subsample': 0.9}\n",
            "-15.36   (2.49)    with {'learning_rate': 0.1, 'n_estimators': 300, 'subsample': 0.3}\n",
            "-13.92   (2.72)    with {'learning_rate': 0.1, 'n_estimators': 300, 'subsample': 0.5}\n",
            "-14.96   (2.63)    with {'learning_rate': 0.1, 'n_estimators': 300, 'subsample': 0.9}\n",
            "-14.71   (2.36)    with {'learning_rate': 0.1, 'n_estimators': 350, 'subsample': 0.3}\n",
            "-13.37   (2.61)    with {'learning_rate': 0.1, 'n_estimators': 350, 'subsample': 0.5}\n",
            "-14.29   (2.55)    with {'learning_rate': 0.1, 'n_estimators': 350, 'subsample': 0.9}\n",
            "-53.21   (10.09)    with {'learning_rate': 0.5, 'n_estimators': 50, 'subsample': 0.3}\n",
            "-37.34   (6.27)    with {'learning_rate': 0.5, 'n_estimators': 50, 'subsample': 0.5}\n",
            "-30.05   (3.98)    with {'learning_rate': 0.5, 'n_estimators': 50, 'subsample': 0.9}\n",
            "-58.50   (12.05)    with {'learning_rate': 0.5, 'n_estimators': 100, 'subsample': 0.3}\n",
            "-35.48   (4.84)    with {'learning_rate': 0.5, 'n_estimators': 100, 'subsample': 0.5}\n",
            "-27.23   (3.46)    with {'learning_rate': 0.5, 'n_estimators': 100, 'subsample': 0.9}\n",
            "-61.24   (10.86)    with {'learning_rate': 0.5, 'n_estimators': 150, 'subsample': 0.3}\n",
            "-35.41   (4.91)    with {'learning_rate': 0.5, 'n_estimators': 150, 'subsample': 0.5}\n",
            "-26.18   (3.16)    with {'learning_rate': 0.5, 'n_estimators': 150, 'subsample': 0.9}\n",
            "-65.40   (9.03)    with {'learning_rate': 0.5, 'n_estimators': 200, 'subsample': 0.3}\n",
            "-35.25   (4.80)    with {'learning_rate': 0.5, 'n_estimators': 200, 'subsample': 0.5}\n",
            "-25.78   (3.19)    with {'learning_rate': 0.5, 'n_estimators': 200, 'subsample': 0.9}\n",
            "-68.29   (9.86)    with {'learning_rate': 0.5, 'n_estimators': 250, 'subsample': 0.3}\n",
            "-35.54   (5.05)    with {'learning_rate': 0.5, 'n_estimators': 250, 'subsample': 0.5}\n",
            "-25.65   (3.12)    with {'learning_rate': 0.5, 'n_estimators': 250, 'subsample': 0.9}\n",
            "-70.24   (12.14)    with {'learning_rate': 0.5, 'n_estimators': 300, 'subsample': 0.3}\n",
            "-35.58   (5.00)    with {'learning_rate': 0.5, 'n_estimators': 300, 'subsample': 0.5}\n",
            "-25.58   (3.15)    with {'learning_rate': 0.5, 'n_estimators': 300, 'subsample': 0.9}\n",
            "-71.48   (10.82)    with {'learning_rate': 0.5, 'n_estimators': 350, 'subsample': 0.3}\n",
            "-35.47   (4.98)    with {'learning_rate': 0.5, 'n_estimators': 350, 'subsample': 0.5}\n",
            "-25.50   (3.10)    with {'learning_rate': 0.5, 'n_estimators': 350, 'subsample': 0.9}\n",
            "-227.35   (60.93)    with {'learning_rate': 0.9, 'n_estimators': 50, 'subsample': 0.3}\n",
            "-101.54   (28.12)    with {'learning_rate': 0.9, 'n_estimators': 50, 'subsample': 0.5}\n",
            "-51.52   (4.61)    with {'learning_rate': 0.9, 'n_estimators': 50, 'subsample': 0.9}\n",
            "-362.45   (80.05)    with {'learning_rate': 0.9, 'n_estimators': 100, 'subsample': 0.3}\n",
            "-120.65   (35.30)    with {'learning_rate': 0.9, 'n_estimators': 100, 'subsample': 0.5}\n",
            "-52.82   (5.39)    with {'learning_rate': 0.9, 'n_estimators': 100, 'subsample': 0.9}\n",
            "-525.64   (141.25)    with {'learning_rate': 0.9, 'n_estimators': 150, 'subsample': 0.3}\n",
            "-130.97   (40.01)    with {'learning_rate': 0.9, 'n_estimators': 150, 'subsample': 0.5}\n",
            "-53.98   (5.55)    with {'learning_rate': 0.9, 'n_estimators': 150, 'subsample': 0.9}\n",
            "-711.25   (135.62)    with {'learning_rate': 0.9, 'n_estimators': 200, 'subsample': 0.3}\n",
            "-133.34   (39.79)    with {'learning_rate': 0.9, 'n_estimators': 200, 'subsample': 0.5}\n",
            "-54.42   (5.67)    with {'learning_rate': 0.9, 'n_estimators': 200, 'subsample': 0.9}\n",
            "-958.66   (178.30)    with {'learning_rate': 0.9, 'n_estimators': 250, 'subsample': 0.3}\n",
            "-138.07   (39.44)    with {'learning_rate': 0.9, 'n_estimators': 250, 'subsample': 0.5}\n",
            "-54.65   (5.76)    with {'learning_rate': 0.9, 'n_estimators': 250, 'subsample': 0.9}\n",
            "-1296.58   (290.68)    with {'learning_rate': 0.9, 'n_estimators': 300, 'subsample': 0.3}\n",
            "-141.07   (37.73)    with {'learning_rate': 0.9, 'n_estimators': 300, 'subsample': 0.5}\n",
            "-54.71   (5.98)    with {'learning_rate': 0.9, 'n_estimators': 300, 'subsample': 0.9}\n",
            "-1590.53   (341.26)    with {'learning_rate': 0.9, 'n_estimators': 350, 'subsample': 0.3}\n",
            "-143.92   (38.79)    with {'learning_rate': 0.9, 'n_estimators': 350, 'subsample': 0.5}\n",
            "-54.69   (5.97)    with {'learning_rate': 0.9, 'n_estimators': 350, 'subsample': 0.9}\n"
          ]
        }
      ]
    },
    {
      "cell_type": "code",
      "source": [
        ""
      ],
      "metadata": {
        "id": "LrWu9lvFNz-e"
      },
      "execution_count": null,
      "outputs": []
    }
  ]
}